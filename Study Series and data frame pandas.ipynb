{
 "cells": [
  {
   "cell_type": "code",
   "execution_count": 1,
   "metadata": {},
   "outputs": [
    {
     "name": "stdout",
     "output_type": "stream",
     "text": [
      "Name: pandas\n",
      "Version: 2.2.3\n",
      "Summary: Powerful data structures for data analysis, time series, and statistics\n",
      "Home-page: https://pandas.pydata.org\n",
      "Author: \n",
      "Author-email: The Pandas Development Team <pandas-dev@python.org>\n",
      "License: BSD 3-Clause License\n",
      "\n",
      "Copyright (c) 2008-2011, AQR Capital Management, LLC, Lambda Foundry, Inc. and PyData Development Team\n",
      "All rights reserved.\n",
      "\n",
      "Copyright (c) 2011-2023, Open source contributors.\n",
      "\n",
      "Redistribution and use in source and binary forms, with or without\n",
      "modification, are permitted provided that the following conditions are met:\n",
      "\n",
      "* Redistributions of source code must retain the above copyright notice, this\n",
      "  list of conditions and the following disclaimer.\n",
      "\n",
      "* Redistributions in binary form must reproduce the above copyright notice,\n",
      "  this list of conditions and the following disclaimer in the documentation\n",
      "  and/or other materials provided with the distribution.\n",
      "\n",
      "* Neither the name of the copyright holder nor the names of its\n",
      "  contributors may be used to endorse or promote products derived from\n",
      "  this software without specific prior written permission.\n",
      "\n",
      "THIS SOFTWARE IS PROVIDED BY THE COPYRIGHT HOLDERS AND CONTRIBUTORS \"AS IS\"\n",
      "AND ANY EXPRESS OR IMPLIED WARRANTIES, INCLUDING, BUT NOT LIMITED TO, THE\n",
      "IMPLIED WARRANTIES OF MERCHANTABILITY AND FITNESS FOR A PARTICULAR PURPOSE ARE\n",
      "DISCLAIMED. IN NO EVENT SHALL THE COPYRIGHT HOLDER OR CONTRIBUTORS BE LIABLE\n",
      "FOR ANY DIRECT, INDIRECT, INCIDENTAL, SPECIAL, EXEMPLARY, OR CONSEQUENTIAL\n",
      "DAMAGES (INCLUDING, BUT NOT LIMITED TO, PROCUREMENT OF SUBSTITUTE GOODS OR\n",
      "SERVICES; LOSS OF USE, DATA, OR PROFITS; OR BUSINESS INTERRUPTION) HOWEVER\n",
      "CAUSED AND ON ANY THEORY OF LIABILITY, WHETHER IN CONTRACT, STRICT LIABILITY,\n",
      "OR TORT (INCLUDING NEGLIGENCE OR OTHERWISE) ARISING IN ANY WAY OUT OF THE USE\n",
      "OF THIS SOFTWARE, EVEN IF ADVISED OF THE POSSIBILITY OF SUCH DAMAGE.\n",
      "Location: c:\\Users\\donia\\miniconda3\\Lib\\site-packages\n",
      "Requires: numpy, python-dateutil, pytz, tzdata\n",
      "Required-by: \n",
      "Note: you may need to restart the kernel to use updated packages.\n"
     ]
    }
   ],
   "source": [
    "pip show pandas"
   ]
  },
  {
   "cell_type": "code",
   "execution_count": 19,
   "metadata": {},
   "outputs": [
    {
     "name": "stdout",
     "output_type": "stream",
     "text": [
      "0     100\n",
      "1     100\n",
      "2    3000\n",
      "3    8000\n",
      "4    5500\n",
      "Name: Account Balance, dtype: int64\n",
      "2    3000\n",
      "3    8000\n",
      "4    5500\n",
      "Name: Account Balance, dtype: int64\n"
     ]
    }
   ],
   "source": [
    "import pandas as pd\n",
    "accBalance=[100,100,3000,8000,5500]\n",
    "balance_series=pd.Series(accBalance,name=\"Account Balance\")\n",
    "#print(accBalance)\n",
    "print(balance_series)\n",
    "balance_filter=balance_series[balance_series>100]\n",
    "print(balance_filter)\n"
   ]
  },
  {
   "cell_type": "code",
   "execution_count": 16,
   "metadata": {},
   "outputs": [
    {
     "name": "stdout",
     "output_type": "stream",
     "text": [
      "0       Doni Aberra\n",
      "1    Mathias Kebede\n",
      "2      Lensa Aberra\n",
      "3        Eden Simon\n",
      "Name: Account Names, dtype: object\n",
      "Doni Aberra Mathias Kebede\n",
      "Doni Aberra\n"
     ]
    }
   ],
   "source": [
    "import pandas as pd\n",
    "name=['Doni Aberra','Mathias Kebede','Lensa Aberra','Eden Simon']\n",
    "name_series=pd.Series(name,name='Account Names')\n",
    "print(name_series)\n",
    "print(name_series[0],name_series[1])\n",
    "name_filter='Doni Aberra'\n",
    "print(name_filter)"
   ]
  },
  {
   "cell_type": "code",
   "execution_count": 29,
   "metadata": {},
   "outputs": [
    {
     "name": "stdout",
     "output_type": "stream",
     "text": [
      "   customer ID   Customer Name Account Type   Balance\n",
      "0        10001     Doni Aberra       Saving   1000000\n",
      "1        10002  Mathias Kebede      Current  10000000\n",
      "2        10003    Lensa Aberra       Saving  50000000\n",
      "3        10004      Eden Simon       Saving   2000000\n",
      "4        10005   Adanech Hunde      current  30000000\n",
      "   customer ID   Customer Name Account Type   Balance\n",
      "1        10002  Mathias Kebede      Current  10000000\n",
      "2        10003    Lensa Aberra       Saving  50000000\n",
      "3        10004      Eden Simon       Saving   2000000\n",
      "4        10005   Adanech Hunde      current  30000000\n",
      "   customer ID Customer Name Account Type  Balance\n",
      "0        10001   Doni Aberra       Saving  1000000\n"
     ]
    }
   ],
   "source": [
    "import pandas as pd\n",
    "customer_data={\n",
    "    \"customer ID\":[10001,10002,10003,10004,10005],\n",
    "    \"Customer Name\":['Doni Aberra','Mathias Kebede','Lensa Aberra','Eden Simon','Adanech Hunde'],\n",
    "    \"Account Type\":['Saving','Current','Saving','Saving','current'],\n",
    "    \"Balance\":[1000000,10000000,50000000,2000000,30000000]\n",
    "}\n",
    "data_frame=pd.DataFrame(customer_data)\n",
    "\n",
    "print(data_frame.head())\n",
    "data_filter_bal=data_frame[data_frame[\"Balance\"]> 1000000]\n",
    "print(data_filter_bal)\n",
    "data_filter_name=data_frame[data_frame[\"Customer Name\"]=='Doni Aberra']\n",
    "print(data_filter_name)"
   ]
  }
 ],
 "metadata": {
  "kernelspec": {
   "display_name": "base",
   "language": "python",
   "name": "python3"
  },
  "language_info": {
   "codemirror_mode": {
    "name": "ipython",
    "version": 3
   },
   "file_extension": ".py",
   "mimetype": "text/x-python",
   "name": "python",
   "nbconvert_exporter": "python",
   "pygments_lexer": "ipython3",
   "version": "3.12.7"
  }
 },
 "nbformat": 4,
 "nbformat_minor": 2
}
