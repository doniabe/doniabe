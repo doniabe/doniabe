{
 "cells": [
  {
   "cell_type": "code",
   "execution_count": 21,
   "metadata": {},
   "outputs": [
    {
     "name": "stdout",
     "output_type": "stream",
     "text": [
      "['apples', 'oranges', 'banana', 'pineapple']\n",
      "['apples', 'oranges', 'banana']\n",
      "4\n",
      "['apples', 'oranges', 'banana', 'pineapple']\n",
      "['apples', 'banana', 'oranges', 'pineapple']\n",
      "['pineapple', 'oranges', 'banana', 'apples']\n"
     ]
    }
   ],
   "source": [
    "# create list\n",
    "list1=[\"apples\",\"oranges\",\"banana\",\"pineapple\"]\n",
    "\n",
    "#list1.insert(0,\"lemon\")\n",
    "#list1.pop()\n",
    "print (list1)\n",
    "print(list1[0:3])\n",
    "print(len(list1))\n",
    "#list1.pop()\n",
    "print (list1)\n",
    "\"cherry\" in list1\n",
    "list1.sort()\n",
    "print (list1)\n",
    "list1.reverse()\n",
    "print (list1)\n"
   ]
  },
  {
   "cell_type": "code",
   "execution_count": 25,
   "metadata": {},
   "outputs": [
    {
     "name": "stdout",
     "output_type": "stream",
     "text": [
      "Alice Smith\n"
     ]
    }
   ],
   "source": [
    "customer_info = (\"Alice Smith\", 123456, \"Finfine Branch\")\n",
    "print (customer_info[0])\n"
   ]
  },
  {
   "cell_type": "code",
   "execution_count": 29,
   "metadata": {},
   "outputs": [
    {
     "name": "stdout",
     "output_type": "stream",
     "text": [
      "Balance: 300.0\n"
     ]
    }
   ],
   "source": [
    "customer_balances = {\n",
    "123456: 1500.0, # account number: balance\n",
    "789012: 300.0,\n",
    "345678: 0.0\n",
    "}\n",
    "# Accessing balance\n",
    "account_number = 789012\n",
    "print(\"Balance:\", customer_balances.get(account_number,\"Account not found\"))"
   ]
  },
  {
   "cell_type": "code",
   "execution_count": 44,
   "metadata": {},
   "outputs": [
    {
     "name": "stdout",
     "output_type": "stream",
     "text": [
      "None\n",
      "{5678: 100}\n"
     ]
    }
   ],
   "source": [
    "#Create a dictionary to store multiple customer balances, allowing balance\n",
    "#updates for deposits and withdrawals.\n",
    "\n",
    "customer_bal={}\n",
    "def customer_bala(account,balance):\n",
    "    if account not in customer_bal:\n",
    "        customer_bal[account]=0\n",
    "        customer_bal[account] += balance\n",
    "    else:\n",
    "        print(\"account already in dictionary\")\n",
    "        return account,balance\n",
    "print(customer_bala(5678,100))\n",
    "\n",
    "\n",
    "print(customer_bal)\n"
   ]
  }
 ],
 "metadata": {
  "kernelspec": {
   "display_name": "base",
   "language": "python",
   "name": "python3"
  },
  "language_info": {
   "codemirror_mode": {
    "name": "ipython",
    "version": 3
   },
   "file_extension": ".py",
   "mimetype": "text/x-python",
   "name": "python",
   "nbconvert_exporter": "python",
   "pygments_lexer": "ipython3",
   "version": "3.12.7"
  }
 },
 "nbformat": 4,
 "nbformat_minor": 2
}
