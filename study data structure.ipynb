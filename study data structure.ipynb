{
 "cells": [
  {
   "cell_type": "code",
   "execution_count": 21,
   "metadata": {},
   "outputs": [
    {
     "name": "stdout",
     "output_type": "stream",
     "text": [
      "['apples', 'oranges', 'banana', 'pineapple']\n",
      "['apples', 'oranges', 'banana']\n",
      "4\n",
      "['apples', 'oranges', 'banana', 'pineapple']\n",
      "['apples', 'banana', 'oranges', 'pineapple']\n",
      "['pineapple', 'oranges', 'banana', 'apples']\n"
     ]
    }
   ],
   "source": [
    "# create list\n",
    "list1=[\"apples\",\"oranges\",\"banana\",\"pineapple\"]\n",
    "\n",
    "#list1.insert(0,\"lemon\")\n",
    "#list1.pop()\n",
    "print (list1)\n",
    "print(list1[0:3])\n",
    "print(len(list1))\n",
    "#list1.pop()\n",
    "print (list1)\n",
    "\"cherry\" in list1\n",
    "list1.sort()\n",
    "print (list1)\n",
    "list1.reverse()\n",
    "print (list1)\n"
   ]
  },
  {
   "cell_type": "code",
   "execution_count": 23,
   "metadata": {},
   "outputs": [],
   "source": [
    "customer_info = (\"Alice Smith\", 123456, \"Finfine Branch\")\n"
   ]
  }
 ],
 "metadata": {
  "kernelspec": {
   "display_name": "base",
   "language": "python",
   "name": "python3"
  },
  "language_info": {
   "codemirror_mode": {
    "name": "ipython",
    "version": 3
   },
   "file_extension": ".py",
   "mimetype": "text/x-python",
   "name": "python",
   "nbconvert_exporter": "python",
   "pygments_lexer": "ipython3",
   "version": "3.12.7"
  }
 },
 "nbformat": 4,
 "nbformat_minor": 2
}
