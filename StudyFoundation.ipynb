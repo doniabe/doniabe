{
 "cells": [
  {
   "cell_type": "code",
   "execution_count": 1,
   "metadata": {},
   "outputs": [
    {
     "name": "stdout",
     "output_type": "stream",
     "text": [
      "I am studying python\n"
     ]
    }
   ],
   "source": [
    "print(\"I am studying python\")"
   ]
  },
  {
   "cell_type": "code",
   "execution_count": 1,
   "metadata": {},
   "outputs": [
    {
     "name": "stdout",
     "output_type": "stream",
     "text": [
      "study makes you strong\n"
     ]
    }
   ],
   "source": [
    "print(\"study makes you strong\")"
   ]
  },
  {
   "cell_type": "code",
   "execution_count": 2,
   "metadata": {},
   "outputs": [
    {
     "name": "stdout",
     "output_type": "stream",
     "text": [
      "The amount of money accumulated after 7.0 years is: $1628348.34\n"
     ]
    }
   ],
   "source": [
    "# Function to calculate compound interest\n",
    "def calculate_compound_interest(principal, rate, time, n):\n",
    "    \"\"\"\n",
    "    Calculate the compound interest.\n",
    "    \n",
    "    Parameters:\n",
    "    principal (float): the initial amount of money\n",
    "    rate (float): the annual interest rate (in decimal)\n",
    "    time (float): the time the money is invested or borrowed for, in years\n",
    "    n (int): the number of times that interest is compounded per year\n",
    "    \n",
    "    Returns:\n",
    "    float: the amount of money accumulated after n years, including interest.\n",
    "    \"\"\"\n",
    "    # A = P (1 + r/n)^(nt)\n",
    "    amount = principal * (1 + rate / n) ** (n * time)\n",
    "    return amount\n",
    "\n",
    "# Inputs\n",
    "principal = float(input(\"Enter the principal amount (initial deposit): \"))\n",
    "annual_rate = float(input(\"Enter the annual interest rate (as a percentage): \")) / 100\n",
    "time = float(input(\"Enter the number of years the money is invested: \"))\n",
    "n = int(input(\"Enter the number of times that interest is compounded per year: \"))\n",
    "\n",
    "# Calculate compound interest\n",
    "final_amount = calculate_compound_interest(principal, annual_rate, time, n)\n",
    "\n",
    "# Display the result\n",
    "print(f\"The amount of money accumulated after {time} years is: ${final_amount:.2f}\")\n"
   ]
  }
 ],
 "metadata": {
  "kernelspec": {
   "display_name": "base",
   "language": "python",
   "name": "python3"
  },
  "language_info": {
   "codemirror_mode": {
    "name": "ipython",
    "version": 3
   },
   "file_extension": ".py",
   "mimetype": "text/x-python",
   "name": "python",
   "nbconvert_exporter": "python",
   "pygments_lexer": "ipython3",
   "version": "3.12.7"
  }
 },
 "nbformat": 4,
 "nbformat_minor": 2
}
