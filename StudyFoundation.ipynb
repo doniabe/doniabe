{
 "cells": [
  {
   "cell_type": "code",
   "execution_count": 1,
   "metadata": {},
   "outputs": [
    {
     "name": "stdout",
     "output_type": "stream",
     "text": [
      "I am studying python\n"
     ]
    }
   ],
   "source": [
    "print(\"I am studying python\")"
   ]
  },
  {
   "cell_type": "code",
   "execution_count": 1,
   "metadata": {},
   "outputs": [
    {
     "name": "stdout",
     "output_type": "stream",
     "text": [
      "study makes you strong\n"
     ]
    }
   ],
   "source": [
    "print(\"study makes you strong\")"
   ]
  },
  {
   "cell_type": "code",
   "execution_count": 2,
   "metadata": {},
   "outputs": [
    {
     "name": "stdout",
     "output_type": "stream",
     "text": [
      "The amount of money accumulated after 7.0 years is: $1628348.34\n"
     ]
    }
   ],
   "source": [
    "# Function to calculate compound interest\n",
    "def calculate_compound_interest(principal, rate, time, n):\n",
    "    \"\"\"\n",
    "    Calculate the compound interest.\n",
    "    \n",
    "    Parameters:\n",
    "    principal (float): the initial amount of money\n",
    "    rate (float): the annual interest rate (in decimal)\n",
    "    time (float): the time the money is invested or borrowed for, in years\n",
    "    n (int): the number of times that interest is compounded per year\n",
    "    \n",
    "    Returns:\n",
    "    float: the amount of money accumulated after n years, including interest.\n",
    "    \"\"\"\n",
    "    # A = P (1 + r/n)^(nt)\n",
    "    amount = principal * (1 + rate / n) ** (n * time)\n",
    "    return amount\n",
    "\n",
    "# Inputs\n",
    "principal = float(input(\"Enter the principal amount (initial deposit): \"))\n",
    "annual_rate = float(input(\"Enter the annual interest rate (as a percentage): \")) / 100\n",
    "time = float(input(\"Enter the number of years the money is invested: \"))\n",
    "n = int(input(\"Enter the number of times that interest is compounded per year: \"))\n",
    "\n",
    "# Calculate compound interest\n",
    "final_amount = calculate_compound_interest(principal, annual_rate, time, n)\n",
    "\n",
    "# Display the result\n",
    "print(f\"The amount of money accumulated after {time} years is: ${final_amount:.2f}\")\n"
   ]
  },
  {
   "cell_type": "code",
   "execution_count": 3,
   "metadata": {},
   "outputs": [
    {
     "name": "stdout",
     "output_type": "stream",
     "text": [
      "Doni\n"
     ]
    }
   ],
   "source": [
    "\n",
    "print(input(\"Please enter your name\"))"
   ]
  },
  {
   "cell_type": "code",
   "execution_count": 6,
   "metadata": {},
   "outputs": [
    {
     "name": "stdout",
     "output_type": "stream",
     "text": [
      "32.0\n"
     ]
    }
   ],
   "source": [
    "age = float(input(\"Enter your age: \"))\n",
    "print(age)"
   ]
  },
  {
   "cell_type": "code",
   "execution_count": 32,
   "metadata": {},
   "outputs": [
    {
     "name": "stdout",
     "output_type": "stream",
     "text": [
      "2024 11 3\n"
     ]
    }
   ],
   "source": [
    "#from datetime import datetime\n",
    "today=datetime.now()\n",
    "year=today.year\n",
    "month=today.month\n",
    "day=today.day\n",
    "print(year,month,day)\n"
   ]
  },
  {
   "cell_type": "code",
   "execution_count": 38,
   "metadata": {},
   "outputs": [
    {
     "name": "stdout",
     "output_type": "stream",
     "text": [
      "Your number is:6 \n"
     ]
    }
   ],
   "source": [
    "try:\n",
    "    num=input(\"please enter a number\")\n",
    "    print(f\"Your number is:{num} \")\n",
    "except ValueError:\n",
    "    print(\"That is not a number\")"
   ]
  },
  {
   "cell_type": "code",
   "execution_count": 20,
   "metadata": {},
   "outputs": [
    {
     "name": "stdout",
     "output_type": "stream",
     "text": [
      "welcome to the bank\n"
     ]
    }
   ],
   "source": [
    "def greet_customer():\n",
    "    print (\"welcome to the bank\")\n",
    "greet_customer()"
   ]
  },
  {
   "cell_type": "code",
   "execution_count": 40,
   "metadata": {},
   "outputs": [
    {
     "name": "stdout",
     "output_type": "stream",
     "text": [
      "My name is {name} and I am {age} years old.\n"
     ]
    }
   ],
   "source": [
    "name = \"Alice\"\n",
    "age = 30\n",
    "print(\"My name is {name} and I am {age} years old.\")"
   ]
  },
  {
   "cell_type": "code",
   "execution_count": 44,
   "metadata": {},
   "outputs": [
    {
     "name": "stdout",
     "output_type": "stream",
     "text": [
      "Division successful!\n",
      "5.0\n",
      "Error: Cannot divide by zero.\n",
      "None\n",
      "Error: Please provide numbers.\n",
      "None\n"
     ]
    }
   ],
   "source": [
    "def divide_numbers(num1, num2):\n",
    "    try:\n",
    "        result = num1 / num2\n",
    "    except ZeroDivisionError:\n",
    "        print(\"Error: Cannot divide by zero.\")\n",
    "        return None\n",
    "    except TypeError:\n",
    "        print(\"Error: Please provide numbers.\")\n",
    "        return None\n",
    "    else:\n",
    "        print(\"Division successful!\")\n",
    "        return result\n",
    "\n",
    "# Testing the function\n",
    "\n",
    "print(divide_numbers(10, 2))  # Valid division\n",
    "print(divide_numbers(10, 0))  # Division by zero\n",
    "print(divide_numbers(10, \"a\"))  # Invalid input\n",
    "\n"
   ]
  },
  {
   "cell_type": "code",
   "execution_count": 67,
   "metadata": {},
   "outputs": [
    {
     "name": "stdout",
     "output_type": "stream",
     "text": [
      "Thank you John Doe for your transaction of $ 200.50.\n"
     ]
    }
   ],
   "source": [
    "account_name = \"John Doe\"\n",
    "transaction = 200.50\n",
    "receipt = f\"Thank you {account_name} for your transaction of ${transaction: .2f}.\"\n",
    "print(receipt)"
   ]
  },
  {
   "cell_type": "code",
   "execution_count": 70,
   "metadata": {},
   "outputs": [
    {
     "name": "stdout",
     "output_type": "stream",
     "text": [
      "The calculated interest is: 2100000.0\n"
     ]
    }
   ],
   "source": [
    "def interest_calc(principal,interest,time):\n",
    "    value=principal*interest*time\n",
    "    return value\n",
    "principal=float(input(\"please enter principal\"))\n",
    "interest=float(input(\"please enter interest rate\"))\n",
    "time=int(input(\"please enter time\"))\n",
    "value=interest_calc(principal,interest,time)\n",
    "print(f\"The calculated interest is: {value}\")"
   ]
  },
  {
   "cell_type": "code",
   "execution_count": 73,
   "metadata": {},
   "outputs": [
    {
     "name": "stdout",
     "output_type": "stream",
     "text": [
      "Can withdraw: True\n"
     ]
    }
   ],
   "source": [
    "account_balance = 500\n",
    "withdrawal_amount = 500\n",
    "can_withdraw = withdrawal_amount <= account_balance\n",
    "print(\"Can withdraw:\", can_withdraw) "
   ]
  },
  {
   "cell_type": "code",
   "execution_count": null,
   "metadata": {},
   "outputs": [
    {
     "name": "stdout",
     "output_type": "stream",
     "text": [
      "withdrawal amount exceeds daily limit\n"
     ]
    }
   ],
   "source": [
    "balance=5000\n",
    "daily_limit=2000\n",
    "withdrawal=float(input(\"please enter the amount to be deducted\"))\n",
    "if withdrawal>=daily_limit:\n",
    "    print(\"withdrawal amount exceeds daily limit\")\n",
    "else:\n",
    "    new_amount=balance-withdrawal\n",
    "    print(f\"new balance: {new_amount}\")\n",
    "\n"
   ]
  },
  {
   "cell_type": "code",
   "execution_count": 88,
   "metadata": {},
   "outputs": [
    {
     "name": "stdout",
     "output_type": "stream",
     "text": [
      "Total deposit for all accounts: 1000\n",
      "Total deposit for all accounts: 3500\n",
      "Total deposit for all accounts: 5000\n",
      "Total deposit for all accounts: 8500\n"
     ]
    }
   ],
   "source": [
    "balances = [1000, 2500, 1500, 3500]\n",
    "total_deposit = 0\n",
    "for balance in balances:\n",
    "    total_deposit += balance\n",
    "    print(\"Total deposit for all accounts:\", total_deposit)"
   ]
  },
  {
   "cell_type": "code",
   "execution_count": 92,
   "metadata": {},
   "outputs": [
    {
     "name": "stdout",
     "output_type": "stream",
     "text": [
      "Loan application status: None\n"
     ]
    }
   ],
   "source": [
    "def validate_loan_application(income, credit_score):\n",
    "    if income > 40000 and credit_score >= 700:\n",
    "        return \"Approved\"\n",
    "        return \"Not Approved\"\n",
    "result = validate_loan_application(3000, 720)\n",
    "print(\"Loan application status:\", result)"
   ]
  }
 ],
 "metadata": {
  "kernelspec": {
   "display_name": "base",
   "language": "python",
   "name": "python3"
  },
  "language_info": {
   "codemirror_mode": {
    "name": "ipython",
    "version": 3
   },
   "file_extension": ".py",
   "mimetype": "text/x-python",
   "name": "python",
   "nbconvert_exporter": "python",
   "pygments_lexer": "ipython3",
   "version": "3.12.7"
  }
 },
 "nbformat": 4,
 "nbformat_minor": 2
}
